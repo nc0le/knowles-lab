{
 "cells": [
  {
   "cell_type": "markdown",
   "metadata": {},
   "source": [
    "## Modeling of Exitron Usage in ALS Patients vs Healthy Individuals"
   ]
  },
  {
   "cell_type": "code",
   "execution_count": 6,
   "metadata": {},
   "outputs": [],
   "source": [
    "import pandas as pd\n",
    "import numpy as np\n",
    "import statsmodels.api as sm\n",
    "import statsmodels.formula.api as smf\n",
    "from statsmodels.stats.multitest import multipletests\n",
    "import re"
   ]
  },
  {
   "cell_type": "markdown",
   "metadata": {},
   "source": [
    "### Data"
   ]
  },
  {
   "cell_type": "code",
   "execution_count": null,
   "metadata": {},
   "outputs": [],
   "source": [
    "# covariates\n",
    "covs = pd.read_csv(\"/gpfs/commons/projects/ALS_Consortium_analysis/compbio/data/metadata_updated_sep4_2024_with_merged_mc.csv\")\n",
    "covs.head()\n"
   ]
  },
  {
   "cell_type": "code",
   "execution_count": null,
   "metadata": {},
   "outputs": [],
   "source": [
    "# normalized exitron data (without correct labels)\n",
    "exitron_data_npy = np.load(\"normalized_data.npy\")\n",
    "exitron_data = pd.DataFrame(exitron_data_npy)\n",
    "exitron_data.head()"
   ]
  },
  {
   "cell_type": "code",
   "execution_count": null,
   "metadata": {},
   "outputs": [],
   "source": [
    "# labels for exitron data\n",
    "reference_labels = pd.read_parquet(\"filtered_exitron_data.parquet\")\n",
    "reference_labels.head()\n"
   ]
  },
  {
   "cell_type": "markdown",
   "metadata": {},
   "source": [
    "### Covariate and Exitron Data Pre-processing "
   ]
  },
  {
   "cell_type": "code",
   "execution_count": 3,
   "metadata": {},
   "outputs": [],
   "source": [
    "# covariates data\n",
    "covs = pd.read_csv(\"/gpfs/commons/projects/ALS_Consortium_analysis/compbio/data/metadata_updated_sep4_2024_with_merged_mc.csv\")\n",
    "covs = covs.sort_values(by=['RIN', 'Platform'], ascending=[False, False])\n",
    "covs['Site.Specimen.Collected'] = covs['Site.Specimen.Collected'].str.replace(' ', '_')\n",
    "covs['Prep'] = covs['Prep'].str.replace(' ', '_')\n",
    "\n",
    "# create  binary 'Disease' variable (1 for ALS, 0 for control)\n",
    "covs['Disease'] = (covs['Subject.Group'] == 'ALS').astype(int)\n",
    "\n",
    "# exitron data\n",
    "exitron_data_npy = np.load(\"normalized_data.npy\")\n",
    "exitron_data = pd.DataFrame(exitron_data_npy) \n",
    "# rename columns and rows corresponding with exitron_data/.parquet\n",
    "reference_labels = pd.read_parquet(\"filtered_exitron_data.parquet\")\n",
    "exitron_data.columns = reference_labels.columns\n",
    "exitron_data.index = reference_labels.index\n",
    "\n",
    "# covariates for each tissue\n",
    "design_list = {\n",
    "    \"Cerebellum\": \"~Disease + Prep + MEAN_READ_LENGTH + Site.Specimen.Collected\",\n",
    "    \"Spinal_Cord_Lumbar\": \"~Disease + Site.Specimen.Collected + Prep + PCT_CHIMERAS\",\n",
    "    \"Spinal_Cord_Cervical\": \"~Disease + Prep + MEAN_READ_LENGTH + Site.Specimen.Collected\",\n",
    "    \"Spinal_Cord_Thoracic\": \"~Disease + Prep + MEDIAN_5PRIME_BIAS + PCT_CHIMERAS\",\n",
    "    \"Cortex_Frontal\": \"~Disease + Prep + MEAN_READ_LENGTH + PCT_CHIMERAS\",\n",
    "    \"Hippocampus\": \"~Disease + MEDIAN_5PRIME_BIAS + MEDIAN_3PRIME_BIAS + PCT_CODING_BASES\",\n",
    "    \"Cortex_Motor\": \"~Disease + Prep + MEAN_READ_LENGTH + PCT_CHIMERAS\",\n",
    "    \"Cortex_Temporal\": \"~Disease + Prep + PCT_CHIMERAS + MEDIAN_5PRIME_BIAS\"\n",
    "}"
   ]
  },
  {
   "cell_type": "markdown",
   "metadata": {},
   "source": [
    "### Logistic Regression Model"
   ]
  },
  {
   "cell_type": "code",
   "execution_count": null,
   "metadata": {},
   "outputs": [],
   "source": [
    "all_results_list = []\n",
    "\n",
    "for tissue, design in design_list.items():\n",
    "    print(f\"Processing tissue: {tissue}\")\n",
    "    \n",
    "    # filter data for the specified tissue\n",
    "    tmp = covs[covs['Sample.Source'] == tissue].copy()\n",
    "    tmp = tmp.drop_duplicates(subset=['ExternalSubjectId'])\n",
    "    model_vars = design.split('~')[1].strip().split(' + ')\n",
    "    columns_to_select = ['RNA', 'Subject.Group'] + model_vars\n",
    "    if 'Disease' in columns_to_select:\n",
    "        columns_to_select.remove('Disease')\n",
    "    tmp = tmp[columns_to_select]\n",
    "    tmp['Subject.Group'] = (tmp['Subject.Group'] == 'ALS').astype(int)\n",
    "\n",
    "    # model formula\n",
    "    predictor_formula = \" + \".join(model_vars).replace('Disease', '')\n",
    "    predictor_formula = re.sub(r'\\s*\\+\\s*\\+', '+', predictor_formula.strip()).strip(' +')\n",
    "    final_model_formula = f\"Subject_Group ~ exitron_norm + {predictor_formula}\"\n",
    "\n",
    "    # loop through each exitron \n",
    "    for exitron in exitron_data.index:\n",
    "        # match exitron data by 'RNA'\n",
    "        exitron_values_for_mapping = exitron_data.loc[exitron]\n",
    "        tmp['exitron_norm'] = tmp['RNA'].map(exitron_values_for_mapping)        \n",
    "\n",
    "        if (tmp['exitron_norm'] != 0).sum() > 10: # At least 10 peeps with a nonzero value\n",
    "            clean_tmp = tmp.rename(columns=lambda c: re.sub(r'[.]', '_', c))\n",
    "            clean_formula = re.sub(r'[.]', '_', final_model_formula)\n",
    "\n",
    "            try:\n",
    "                # fit logistic regression model\n",
    "                fit = smf.logit(formula=clean_formula, data=clean_tmp).fit(disp=0) # disp=0 hides convergence output\n",
    "                \n",
    "                # extract results for the 'exitron_norm' coefficient\n",
    "                res = fit.summary2().tables[1]\n",
    "                exitron_res = res.loc['exitron_norm'].rename(fit.params.index[1])\n",
    "                \n",
    "                # add tissue and exitron info and append to our results list\n",
    "                result_row = pd.DataFrame([exitron_res])\n",
    "                result_row['tissue'] = tissue\n",
    "                result_row['exitron'] = exitron\n",
    "                all_results_list.append(result_row)\n",
    "\n",
    "            except Exception as e:\n",
    "                # print(f\"    Could not fit model for {exitron} in {tissue}. Error: {e}\")\n",
    "                continue\n",
    "\n",
    "# Combine all results into a single DataFrame\n",
    "if all_results_list:\n",
    "    results_df = pd.concat(all_results_list, ignore_index=True)\n",
    "else:\n",
    "    print(\"No results\")"
   ]
  },
  {
   "cell_type": "markdown",
   "metadata": {},
   "source": [
    "### Results"
   ]
  },
  {
   "cell_type": "code",
   "execution_count": 35,
   "metadata": {},
   "outputs": [
    {
     "name": "stdout",
     "output_type": "stream",
     "text": [
      "         Coef.  Std.Err.         z     P>|z|     [0.025     0.975]  \\\n",
      "0    -0.723267  1.185449 -0.610121  0.541782  -3.046703   1.600170   \n",
      "1    -0.290065  0.610802 -0.474893  0.634864  -1.487216   0.907085   \n",
      "2     4.406686  5.193176  0.848553  0.396130  -5.771751  14.585123   \n",
      "3    -4.033948  3.052461 -1.321540  0.186322 -10.016662   1.948766   \n",
      "4    -0.650334  1.042348 -0.623913  0.532685  -2.693298   1.392630   \n",
      "...        ...       ...       ...       ...        ...        ...   \n",
      "7748  2.194986  4.142583  0.529859  0.596210  -5.924327  10.314299   \n",
      "7749  1.202727  2.207991  0.544715  0.585949  -3.124856   5.530310   \n",
      "7750  6.581783  5.250245  1.253614  0.209982  -3.708509  16.872075   \n",
      "7751 -2.165554  2.270092 -0.953950  0.340109  -6.614853   2.283744   \n",
      "7752 -6.093024  3.848505 -1.583218  0.113372 -13.635956   1.449907   \n",
      "\n",
      "               tissue                      exitron  \n",
      "0          Cerebellum  chr10:119042185:119042245:-  \n",
      "1          Cerebellum  chr10:133285213:133285455:-  \n",
      "2          Cerebellum    chr10:38055274:38055778:+  \n",
      "3          Cerebellum    chr10:60059430:60059697:-  \n",
      "4          Cerebellum    chr10:98429642:98429790:-  \n",
      "...               ...                          ...  \n",
      "7748  Cortex_Temporal     chrX:76428451:76428631:+  \n",
      "7749  Cortex_Temporal     chrX:76428487:76428523:+  \n",
      "7750  Cortex_Temporal     chrX:76428595:76428703:+  \n",
      "7751  Cortex_Temporal     chrX:76428631:76428919:+  \n",
      "7752  Cortex_Temporal     chrX:77683451:77683538:-  \n",
      "\n",
      "[7753 rows x 8 columns]\n"
     ]
    }
   ],
   "source": [
    "print(results_df)"
   ]
  },
  {
   "cell_type": "code",
   "execution_count": 5,
   "metadata": {},
   "outputs": [
    {
     "name": "stdout",
     "output_type": "stream",
     "text": [
      "Significant results: 853\n"
     ]
    }
   ],
   "source": [
    "significant_results = results_df[results_df['P>|z|'] < 0.05]\n",
    "significant_results.head()\n",
    "print(f\"Significant results: {len(significant_results)}\")"
   ]
  },
  {
   "cell_type": "markdown",
   "metadata": {},
   "source": [
    "### Multiple-Test Correction on p-Values"
   ]
  },
  {
   "cell_type": "code",
   "execution_count": 18,
   "metadata": {},
   "outputs": [
    {
     "name": "stdout",
     "output_type": "stream",
     "text": [
      "Significant hits:\n",
      "          Coef.  Std.Err.         z     P>|z|     [0.025     0.975]  \\\n",
      "858    1.760623  0.490647  3.588368  0.000333   0.798972   2.722274   \n",
      "869   12.065610  3.559049  3.390122  0.000699   5.090001  19.041218   \n",
      "876    7.919233  2.007813  3.944208  0.000080   3.983991  11.854474   \n",
      "977   18.419595  5.046529  3.649953  0.000262   8.528580  28.310609   \n",
      "1129  10.297866  2.385760  4.316388  0.000016   5.621862  14.973871   \n",
      "...         ...       ...       ...       ...        ...        ...   \n",
      "5301  -1.241073  0.331151 -3.747755  0.000178  -1.890117  -0.592029   \n",
      "5310  -4.926266  1.556356 -3.165256  0.001549  -7.976668  -1.875863   \n",
      "5316  -6.948522  2.199942 -3.158503  0.001586 -11.260328  -2.636715   \n",
      "6275  -1.981472  0.476112 -4.161776  0.000032  -2.914634  -1.048309   \n",
      "6805   2.635913  0.662019  3.981628  0.000068   1.338380   3.933447   \n",
      "\n",
      "                  tissue                      exitron     p_fdr  \n",
      "858   Spinal_Cord_Lumbar        chr11:244075:244160:+  0.028683  \n",
      "869   Spinal_Cord_Lumbar    chr11:62519971:62520355:-  0.045166  \n",
      "876   Spinal_Cord_Lumbar    chr11:62520070:62520454:-  0.012940  \n",
      "977   Spinal_Cord_Lumbar    chr11:62521861:62522245:-  0.026217  \n",
      "1129  Spinal_Cord_Lumbar    chr11:62526211:62526595:-  0.004101  \n",
      "...                  ...                          ...       ...  \n",
      "5301      Cortex_Frontal   chrX:154420094:154420211:+  0.007577  \n",
      "5310      Cortex_Frontal     chrX:76428631:76428703:+  0.025237  \n",
      "5316      Cortex_Frontal     chrX:76428883:76428955:+  0.025480  \n",
      "6275        Cortex_Motor  chr14:104949360:104951835:-  0.031136  \n",
      "6805        Cortex_Motor     chr2:47808247:47808328:-  0.033743  \n",
      "\n",
      "[139 rows x 9 columns]\n"
     ]
    }
   ],
   "source": [
    "corrected_results = []\n",
    "\n",
    "unique_tissues = results_df['tissue'].unique()\n",
    "\n",
    "# loop through each tissue\n",
    "for tissue in unique_tissues:\n",
    "    res_tissue = results_df[results_df['tissue'] == tissue].copy()\n",
    "    p_values = res_tissue['P>|z|'].dropna()\n",
    "    \n",
    "    # apply multiple-tests correction\n",
    "    reject, p_adj_fdr, _, _ = multipletests(p_values, alpha=0.05, method='fdr_bh')\n",
    "    res_tissue.loc[p_values.index, 'p_fdr'] = p_adj_fdr\n",
    "    corrected_results.append(res_tissue)\n",
    "\n",
    "final_results = pd.concat(corrected_results)\n",
    "\n",
    "# filter for significance: p_fdr < 0.05\n",
    "significant_hits = final_results[final_results['p_fdr'] < 0.05]\n",
    "print(\"Significant hits:\")\n",
    "print(significant_hits)"
   ]
  }
 ],
 "metadata": {
  "kernelspec": {
   "display_name": "vscode",
   "language": "python",
   "name": "python3"
  },
  "language_info": {
   "codemirror_mode": {
    "name": "ipython",
    "version": 3
   },
   "file_extension": ".py",
   "mimetype": "text/x-python",
   "name": "python",
   "nbconvert_exporter": "python",
   "pygments_lexer": "ipython3",
   "version": "3.13.3"
  }
 },
 "nbformat": 4,
 "nbformat_minor": 2
}
